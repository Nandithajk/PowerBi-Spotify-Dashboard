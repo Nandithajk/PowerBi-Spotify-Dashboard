{
 "cells": [
  {
   "cell_type": "code",
   "execution_count": 8,
   "id": "c206211d",
   "metadata": {},
   "outputs": [
    {
     "data": {
      "text/plain": [
       "'/Users/ajay'"
      ]
     },
     "execution_count": 8,
     "metadata": {},
     "output_type": "execute_result"
    }
   ],
   "source": [
    "pwd"
   ]
  },
  {
   "cell_type": "code",
   "execution_count": 10,
   "id": "a9cc3695",
   "metadata": {},
   "outputs": [],
   "source": [
    "import requests\n",
    "import pandas as pd"
   ]
  },
  {
   "cell_type": "code",
   "execution_count": 25,
   "id": "7403633c",
   "metadata": {},
   "outputs": [
    {
     "name": "stdout",
     "output_type": "stream",
     "text": [
      "Collecting spotipy\n",
      "  Downloading spotipy-2.24.0-py3-none-any.whl.metadata (4.9 kB)\n",
      "Collecting redis>=3.5.3 (from spotipy)\n",
      "  Downloading redis-5.0.5-py3-none-any.whl.metadata (9.3 kB)\n",
      "Requirement already satisfied: requests>=2.25.0 in /Applications/anaconda3/lib/python3.11/site-packages (from spotipy) (2.32.2)\n",
      "Requirement already satisfied: urllib3>=1.26.0 in /Applications/anaconda3/lib/python3.11/site-packages (from spotipy) (1.26.7)\n",
      "Requirement already satisfied: charset-normalizer<4,>=2 in /Applications/anaconda3/lib/python3.11/site-packages (from requests>=2.25.0->spotipy) (2.0.4)\n",
      "Requirement already satisfied: idna<4,>=2.5 in /Applications/anaconda3/lib/python3.11/site-packages (from requests>=2.25.0->spotipy) (3.4)\n",
      "Requirement already satisfied: certifi>=2017.4.17 in /Applications/anaconda3/lib/python3.11/site-packages (from requests>=2.25.0->spotipy) (2024.6.2)\n",
      "Downloading spotipy-2.24.0-py3-none-any.whl (30 kB)\n",
      "Downloading redis-5.0.5-py3-none-any.whl (251 kB)\n",
      "\u001b[2K   \u001b[90m━━━━━━━━━━━━━━━━━━━━━━━━━━━━━━━━━━━━━━━━\u001b[0m \u001b[32m252.0/252.0 kB\u001b[0m \u001b[31m1.8 MB/s\u001b[0m eta \u001b[36m0:00:00\u001b[0m00:01\u001b[0m00:01\u001b[0m\n",
      "\u001b[?25hInstalling collected packages: redis, spotipy\n",
      "Successfully installed redis-5.0.5 spotipy-2.24.0\n"
     ]
    }
   ],
   "source": [
    "!pip install spotipy\n"
   ]
  },
  {
   "cell_type": "code",
   "execution_count": null,
   "id": "d067013a",
   "metadata": {},
   "outputs": [],
   "source": [
    "import pandas as pd\n",
    "import requests\n",
    "import time\n",
    "import urllib.parse\n",
    "\n",
    "\n",
    "# Function to get Spotify access token\n",
    "def get_spotify_token(client_id, client_secret):\n",
    "    auth_url = 'https://accounts.spotify.com/api/token'\n",
    "    auth_response = requests.post(auth_url, {\n",
    "        'grant_type': 'client_credentials',\n",
    "        'client_id': client_id,\n",
    "        'client_secret': client_secret,\n",
    "    })\n",
    "    auth_data = auth_response.json()\n",
    "    return auth_data['access_token']\n",
    "\n",
    "# Function to search for a track and get its ID\n",
    "def search_track(track_name, artist_name, token):\n",
    "    query = f\"track:{track_name} artist:{artist_name}\"\n",
    "    query_encoded = urllib.parse.quote(query)\n",
    "    url = f\"https://api.spotify.com/v1/search?q={query_encoded}&type=track&limit=1\"\n",
    "    response = requests.get(url, headers={\n",
    "        'Authorization': f'Bearer {token}'\n",
    "    })\n",
    "    json_data = response.json()\n",
    "    try:\n",
    "        first_result = json_data['tracks']['items'][0]\n",
    "        track_id = first_result['id']\n",
    "        return track_id\n",
    "    except (KeyError, IndexError):\n",
    "        return None\n",
    "\n",
    "# Function to get track details\n",
    "def get_track_details(track_id, token):\n",
    "    url = f\"https://api.spotify.com/v1/tracks/{track_id}\"\n",
    "    response = requests.get(url, headers={\n",
    "        'Authorization': f'Bearer {token}'\n",
    "    })\n",
    "    json_data = response.json()\n",
    "    try:\n",
    "        image_url = json_data['album']['images'][0]['url']\n",
    "        return image_url\n",
    "    except (KeyError, IndexError):\n",
    "        return None\n",
    "\n",
    "# Your Spotify API Credentials\n",
    "client_id = '0d7b5d511b8846709dfd76d46c0b302e'\n",
    "client_secret = '679e5b71a69e41cfa4d19b5cedc3d6a6'\n",
    "\n",
    "# Get Access Token\n",
    "access_token = get_spotify_token(client_id, client_secret)\n",
    "\n",
    "# Read your DataFrame\n",
    "try:\n",
    "    df_spotify = pd.read_csv('spotify-2023.csv', encoding='ISO-8859-1')\n",
    "except UnicodeDecodeError:\n",
    "    df_spotify = pd.read_csv('spotify-2023.csv', encoding='utf-16')\n",
    "\n",
    "# Loop through each row to get track details and add to DataFrame\n",
    "cover_urls = []\n",
    "for i, row in df_spotify.iterrows():\n",
    "    track_id = search_track(row['track_name'], row['artist(s)_name'], access_token)\n",
    "    if track_id:\n",
    "        image_url = get_track_details(track_id, access_token)\n",
    "        cover_urls.append(image_url)\n",
    "    else:\n",
    "        # Retry with modifications if no cover is found\n",
    "        artists = row['artist(s)_name'].split(',')\n",
    "        image_url = None\n",
    "        for artist in artists:\n",
    "            track_id = search_track(row['track_name'], artist.strip(), access_token)\n",
    "            if track_id:\n",
    "                image_url = get_track_details(track_id, access_token)\n",
    "                if image_url:\n",
    "                    break\n",
    "        cover_urls.append(image_url)\n",
    "\n",
    "# Add the cover URLs as a new column to the DataFrame\n",
    "df_spotify['cover_url'] = cover_urls\n",
    "\n",
    "# Save the updated DataFrame\n",
    "df_spotify.to_csv('spotify-2023-with-cover-urls.csv', index=False)\n",
    "\n",
    "# Display the first few rows of the updated DataFrame\n",
    "print(df_spotify.head())\n"
   ]
  },
  {
   "cell_type": "code",
   "execution_count": null,
   "id": "5019be1a",
   "metadata": {},
   "outputs": [],
   "source": []
  },
  {
   "cell_type": "code",
   "execution_count": null,
   "id": "9f3ebe87",
   "metadata": {},
   "outputs": [],
   "source": []
  }
 ],
 "metadata": {
  "kernelspec": {
   "display_name": "Python 3 (ipykernel)",
   "language": "python",
   "name": "python3"
  },
  "language_info": {
   "codemirror_mode": {
    "name": "ipython",
    "version": 3
   },
   "file_extension": ".py",
   "mimetype": "text/x-python",
   "name": "python",
   "nbconvert_exporter": "python",
   "pygments_lexer": "ipython3",
   "version": "3.11.7"
  }
 },
 "nbformat": 4,
 "nbformat_minor": 5
}
